{
 "cells": [
  {
   "cell_type": "code",
   "execution_count": 34,
   "id": "bd8031e9-be66-4c36-9b63-de2707502b36",
   "metadata": {},
   "outputs": [],
   "source": [
    "#Load data\n",
    "import pandas as pd\n",
    "df = pd.read_csv(\"/Users/breannabelisle/Desktop/Quantic Datasets/Transactions.csv\")"
   ]
  },
  {
   "cell_type": "code",
   "execution_count": 20,
   "id": "60beb3b8-f92c-4678-8e64-a7e38bbe3d16",
   "metadata": {},
   "outputs": [
    {
     "name": "stdout",
     "output_type": "stream",
     "text": [
      "  Transaction_ID Customer_ID Product_ID        Date      Date 2  Quantity  \\\n",
      "0         T00001  CUST011708       P027  2023-01-01  2023-01-01         2   \n",
      "1         T00001  CUST023014       P042  2023-01-01  2023-01-01         3   \n",
      "2         T00001  CUST019741       P001  2023-01-01  2023-01-01         2   \n",
      "3         T00001  CUST035347       P062  2023-01-01  2023-01-01         3   \n",
      "4         T00001  CUST031472       P064  2023-01-01  2023-01-01         2   \n",
      "\n",
      "   Unit_Price  Total_Amount Payment_Method     Channel  Month  Year  \\\n",
      "0         5.0          10.0     Tap to Pay      Social      1  2023   \n",
      "1         6.0          18.0     Tap to Pay         NaN      1  2023   \n",
      "2         4.5           9.0           Cash  Mobile App      1  2023   \n",
      "3         7.0          21.0           Cash       Email      1  2023   \n",
      "4         7.0          14.0     Tap to Pay       Email      1  2023   \n",
      "\n",
      "   Number_of_Scoops  \n",
      "0                 2  \n",
      "1                 3  \n",
      "2                 1  \n",
      "3                 4  \n",
      "4                 4  \n"
     ]
    }
   ],
   "source": [
    "#Confirm data load \n",
    "print(df.head())"
   ]
  },
  {
   "cell_type": "code",
   "execution_count": 21,
   "id": "f96e04e4-d91d-44d5-9819-02283df8d27d",
   "metadata": {},
   "outputs": [
    {
     "name": "stdout",
     "output_type": "stream",
     "text": [
      "(751062, 13)\n"
     ]
    }
   ],
   "source": [
    "#Confirm dataset volume \n",
    "print(df.shape)"
   ]
  },
  {
   "cell_type": "code",
   "execution_count": 23,
   "id": "6de69430-cf48-4794-9362-83a8281b54cb",
   "metadata": {},
   "outputs": [
    {
     "name": "stdout",
     "output_type": "stream",
     "text": [
      "Transaction_ID       object\n",
      "Customer_ID          object\n",
      "Product_ID           object\n",
      "Date                 object\n",
      "Date 2               object\n",
      "Quantity              int64\n",
      "Unit_Price          float64\n",
      "Total_Amount        float64\n",
      "Payment_Method       object\n",
      "Channel              object\n",
      "Month                 int64\n",
      "Year                  int64\n",
      "Number_of_Scoops      int64\n",
      "dtype: object\n"
     ]
    }
   ],
   "source": [
    "#(1)DATA UNDERSTANDING \n",
    "#Check Data types\n",
    "print(df.dtypes)"
   ]
  },
  {
   "cell_type": "code",
   "execution_count": 22,
   "id": "85ba831a-7181-4549-ae8f-cf773f5428c3",
   "metadata": {},
   "outputs": [
    {
     "name": "stdout",
     "output_type": "stream",
     "text": [
      "Transaction_ID           0\n",
      "Customer_ID              0\n",
      "Product_ID               0\n",
      "Date                     0\n",
      "Date 2                   0\n",
      "Quantity                 0\n",
      "Unit_Price               0\n",
      "Total_Amount             0\n",
      "Payment_Method           0\n",
      "Channel             149914\n",
      "Month                    0\n",
      "Year                     0\n",
      "Number_of_Scoops         0\n",
      "dtype: int64\n"
     ]
    }
   ],
   "source": [
    "#(2) DATA CLEANING \n",
    "#Get missing data per col \n",
    "missing_counts_per_column = df.isnull().sum() \n",
    "\n",
    "print(missing_counts_per_column)"
   ]
  },
  {
   "cell_type": "code",
   "execution_count": 36,
   "id": "553828e4-a414-4735-9488-85c95916937a",
   "metadata": {},
   "outputs": [
    {
     "name": "stdout",
     "output_type": "stream",
     "text": [
      "--- IQR Results for Total_Amount ---\n",
      "First Quartile (Q1): 13.5\n",
      "Third Quartile (Q3): 25.0\n",
      "Interquartile Range (IQR): 11.5\n",
      "Lower Bound (Outliers below): -3.75\n",
      "Upper Bound (Outliers above): 42.25\n",
      "\n",
      "Number of Outliers Found: 0\n",
      "First 5 Outlier Transactions:\n",
      "Empty DataFrame\n",
      "Columns: [Transaction_ID, Customer_ID, Product_ID, Date, Date 2, Quantity, Unit_Price, Total_Amount, Payment_Method, Channel, Month, Year, Number_of_Scoops]\n",
      "Index: []\n"
     ]
    }
   ],
   "source": [
    "#(4) OUTLIER DETECTION \n",
    "#Outlier Calculation: IQR of \"Total Amount\" \n",
    "column_to_analyze = df['Total_Amount'] \n",
    "\n",
    "# Calculate Q1\n",
    "Q1 = column_to_analyze.quantile(0.25)\n",
    "\n",
    "# Calculate Q3\n",
    "Q3 = column_to_analyze.quantile(0.75)\n",
    "\n",
    "# Calculate the Interquartile Range (IQR)\n",
    "IQR = Q3 - Q1\n",
    "\n",
    "# Define the outlier boundaries (using the standard 1.5 * IQR rule)\n",
    "lower_bound = Q1 - 1.5 * IQR\n",
    "upper_bound = Q3 + 1.5 * IQR\n",
    "\n",
    "print(\"--- IQR Results for Total_Amount ---\")\n",
    "print(f\"First Quartile (Q1): {Q1}\")\n",
    "print(f\"Third Quartile (Q3): {Q3}\")\n",
    "print(f\"Interquartile Range (IQR): {IQR}\")\n",
    "print(f\"Lower Bound (Outliers below): {lower_bound}\")\n",
    "print(f\"Upper Bound (Outliers above): {upper_bound}\")\n",
    "\n",
    "#Find and print the outliers\n",
    "outliers = df[(df['Total_Amount'] < lower_bound) | (df['Total_Amount'] > upper_bound)]\n",
    "print(f\"\\nNumber of Outliers Found: {len(outliers)}\")\n",
    "# Use .head() to avoid printing all rows if you have many outliers\n",
    "print(f\"First 5 Outlier Transactions:\\n{outliers.head()}\")\n"
   ]
  },
  {
   "cell_type": "code",
   "execution_count": 24,
   "id": "36e90843-014e-45c3-aaa9-0c44a4593c2c",
   "metadata": {
    "editable": true,
    "slideshow": {
     "slide_type": ""
    },
    "tags": []
   },
   "outputs": [
    {
     "name": "stdout",
     "output_type": "stream",
     "text": [
      "Mean Calculations:\n",
      "Total_Amount Mean: 19.67997315800826\n",
      "Quantity Mean: 3.4238185396145724\n",
      "Unit_Price Mean: 5.747426976734277\n",
      "Number_of_Scoops Mean: 2.4975461413305426\n"
     ]
    }
   ],
   "source": [
    "#(5) CALCULATE AND VISUALIZE DESCRIPTIVE STATISTICS \n",
    "#Mean of numeric variables\n",
    "print(\"Mean Calculations:\")\n",
    "print(f\"Total_Amount Mean: {df['Total_Amount'].mean()}\")\n",
    "print(f\"Quantity Mean: {df['Quantity'].mean()}\")\n",
    "print(f\"Unit_Price Mean: {df['Unit_Price'].mean()}\")\n",
    "print(f\"Number_of_Scoops Mean: {df['Number_of_Scoops'].mean()}\")"
   ]
  },
  {
   "cell_type": "code",
   "execution_count": 26,
   "id": "bb3f529a-dbc3-4967-b8c8-faa480207e02",
   "metadata": {},
   "outputs": [
    {
     "name": "stdout",
     "output_type": "stream",
     "text": [
      "--- Frequency Count ---\n",
      "Payment_Method\n",
      "Tap to Pay     250776\n",
      "Credit Card    250743\n",
      "Cash           249543\n",
      "Name: count, dtype: int64\n",
      "\n",
      "--- Relative Frequency (Percentage) ---\n",
      "Payment_Method\n",
      "Tap to Pay     33.389520\n",
      "Credit Card    33.385127\n",
      "Cash           33.225353\n",
      "Name: proportion, dtype: float64\n"
     ]
    }
   ],
   "source": [
    "#(5) CALCULATE AND VISUALIZE DESCRIPTIVE STATISTICS \n",
    "#Frenquency of Nominal and Ordinal: Payment Method\n",
    "frequency_table = df['Payment_Method'].value_counts()\n",
    "\n",
    "print(\"--- Frequency Count ---\")\n",
    "print(frequency_table)\n",
    "\n",
    "print(\"\\n--- Relative Frequency (Percentage) ---\")\n",
    "# Get the percentage/proportion of each unique value\n",
    "relative_frequency_table = df['Payment_Method'].value_counts(normalize=True) * 100\n",
    "\n",
    "print(relative_frequency_table)"
   ]
  },
  {
   "cell_type": "code",
   "execution_count": 27,
   "id": "786c387a-35b8-414c-b35a-7303d8fb66de",
   "metadata": {},
   "outputs": [
    {
     "name": "stdout",
     "output_type": "stream",
     "text": [
      "--- Frequency Count ---\n",
      "Year\n",
      "2025    480324\n",
      "2024    233122\n",
      "2023     37616\n",
      "Name: count, dtype: int64\n",
      "\n",
      "--- Relative Frequency (Percentage) ---\n",
      "Year\n",
      "2025    63.952643\n",
      "2024    31.038982\n",
      "2023     5.008375\n",
      "Name: proportion, dtype: float64\n"
     ]
    }
   ],
   "source": [
    "#(5) CALCULATE AND VISUALIZE DESCRIPTIVE STATISTICS \n",
    "#Frenquency of Year\n",
    "frequency_table = df['Year'].value_counts()\n",
    "\n",
    "print(\"--- Frequency Count ---\")\n",
    "print(frequency_table)\n",
    "\n",
    "print(\"\\n--- Relative Frequency (Percentage) ---\")\n",
    "# Get the percentage/proportion of each unique value\n",
    "relative_frequency_table = df['Year'].value_counts(normalize=True) * 100\n",
    "\n",
    "print(relative_frequency_table)"
   ]
  },
  {
   "cell_type": "code",
   "execution_count": 28,
   "id": "2309c14d-5d27-4e34-935d-9baaa98c66c4",
   "metadata": {},
   "outputs": [
    {
     "name": "stdout",
     "output_type": "stream",
     "text": [
      "    Month  Year  Count  Percentage\n",
      "0       1  2023   1913        0.25\n",
      "1       1  2024  13858        1.85\n",
      "2       1  2025  27175        3.62\n",
      "3       2  2023   1800        0.24\n",
      "4       2  2024  12425        1.65\n",
      "5       2  2025  24558        3.27\n",
      "6       3  2023   1929        0.26\n",
      "7       3  2024  13213        1.76\n",
      "8       3  2025  30779        4.10\n",
      "9       4  2023   1764        0.23\n",
      "10      4  2024  16760        2.23\n",
      "11      4  2025  33715        4.49\n",
      "12      5  2023   1671        0.22\n",
      "13      5  2024  17646        2.35\n",
      "14      5  2025  38696        5.15\n",
      "15      6  2023   6890        0.92\n",
      "16      6  2024  24839        3.31\n",
      "17      6  2025  48916        6.51\n",
      "18      7  2023   7384        0.98\n",
      "19      7  2024  25100        3.34\n",
      "20      7  2025  54328        7.23\n",
      "21      8  2023   6579        0.88\n",
      "22      8  2024  25332        3.37\n",
      "23      8  2025  50502        6.72\n",
      "24      9  2023   1821        0.24\n",
      "25      9  2024  16472        2.19\n",
      "26      9  2025  37452        4.99\n",
      "27     10  2023   1810        0.24\n",
      "28     10  2024  17677        2.35\n",
      "29     10  2025  38763        5.16\n",
      "30     11  2023   2013        0.27\n",
      "31     11  2024  24299        3.24\n",
      "32     11  2025  45087        6.00\n",
      "33     12  2023   2042        0.27\n",
      "34     12  2024  25501        3.40\n",
      "35     12  2025  50353        6.70\n"
     ]
    }
   ],
   "source": [
    "#(5) CALCULATE AND VISUALIZE DESCRIPTIVE STATISTICS \n",
    "#Frenquency of Month AND Year\n",
    "grouped_frequency = df.groupby(['Month', 'Year']).size().reset_index(name='Count')\n",
    "\n",
    "#Get the total number of rows in dataframe \n",
    "total_count = len(df) \n",
    "\n",
    "#Calculate the percentage column\n",
    "grouped_frequency['Percentage'] = (grouped_frequency['Count'] / total_count) * 100\n",
    "\n",
    "# Rounding to two decimal places\n",
    "grouped_frequency['Percentage'] = grouped_frequency['Percentage'].round(2)\n",
    "\n",
    "print(grouped_frequency)"
   ]
  },
  {
   "cell_type": "code",
   "execution_count": 29,
   "id": "5002aad8-5882-4d30-8e2c-02df00a09281",
   "metadata": {},
   "outputs": [
    {
     "name": "stdout",
     "output_type": "stream",
     "text": [
      "--- Frequency Count ---\n",
      "Customer_ID\n",
      "CUST027871    47\n",
      "CUST013587    47\n",
      "CUST021000    46\n",
      "CUST015139    45\n",
      "CUST038407    45\n",
      "              ..\n",
      "CUST021914     8\n",
      "CUST029538     8\n",
      "CUST031352     8\n",
      "CUST024730     8\n",
      "CUST030748     8\n",
      "Name: count, Length: 30001, dtype: int64\n",
      "\n",
      "--- Relative Frequency (Percentage) ---\n",
      "Customer_ID\n",
      "CUST027871    0.006258\n",
      "CUST013587    0.006258\n",
      "CUST021000    0.006125\n",
      "CUST015139    0.005992\n",
      "CUST038407    0.005992\n",
      "                ...   \n",
      "CUST021914    0.001065\n",
      "CUST029538    0.001065\n",
      "CUST031352    0.001065\n",
      "CUST024730    0.001065\n",
      "CUST030748    0.001065\n",
      "Name: proportion, Length: 30001, dtype: float64\n"
     ]
    }
   ],
   "source": [
    "#(5) CALCULATE AND VISUALIZE DESCRIPTIVE STATISTICS \n",
    "#Frenquency of Customer_ID. Aim to confirm there isn't any outliers among customers. \n",
    "frequency_table = df['Customer_ID'].value_counts()\n",
    "\n",
    "print(\"--- Frequency Count ---\")\n",
    "print(frequency_table)\n",
    "\n",
    "print(\"\\n--- Relative Frequency (Percentage) ---\")\n",
    "# Get the percentage/proportion of each unique value\n",
    "relative_frequency_table = df['Customer_ID'].value_counts(normalize=True) * 100\n",
    "\n",
    "print(relative_frequency_table)"
   ]
  },
  {
   "cell_type": "code",
   "execution_count": 30,
   "id": "fb87d69d-10ee-454e-aabb-76ead383518b",
   "metadata": {},
   "outputs": [
    {
     "name": "stdout",
     "output_type": "stream",
     "text": [
      "--- Min and Max Customer Attendance ---\n",
      "min     8\n",
      "max    47\n",
      "Name: Attendance_Count, dtype: int64\n"
     ]
    }
   ],
   "source": [
    "#(5) CALCULATE AND VISUALIZE DESCRIPTIVE STATISTICS \n",
    "#Min and Max Customer_ID count. What is the min and max times a customer has attended Crafted Cones? \n",
    "import pandas as pd\n",
    "\n",
    "#Attendance per customer \n",
    "attendance_counts = df.groupby('Customer_ID').size().reset_index(name='Attendance_Count')\n",
    "\n",
    "#Min and max values from the new 'Attendance_Count' column\n",
    "min_max_attendance = attendance_counts['Attendance_Count'].agg(['min', 'max'])\n",
    "\n",
    "print(\"--- Min and Max Customer Attendance ---\")\n",
    "print(min_max_attendance)"
   ]
  },
  {
   "cell_type": "code",
   "execution_count": 31,
   "id": "fe1e099b-df29-46bd-949e-9a4d9c4d26e0",
   "metadata": {},
   "outputs": [
    {
     "name": "stdout",
     "output_type": "stream",
     "text": [
      "--- Average and Median Customer Attendance ---\n",
      "mean      25.034566\n",
      "median    25.000000\n",
      "Name: Attendance_Count, dtype: float64\n"
     ]
    }
   ],
   "source": [
    "#(5) CALCULATE AND VISUALIZE DESCRIPTIVE STATISTICS \n",
    "#Average and Median customer attendance \n",
    "\n",
    "# Group by customer attendance count \n",
    "attendance_counts = df.groupby('Customer_ID').size().reset_index(name='Attendance_Count')\n",
    "\n",
    "#Find the mean and median of attendance counts\n",
    "average_median_attendance = attendance_counts['Attendance_Count'].agg(['mean', 'median'])\n",
    "\n",
    "print(\"--- Average and Median Customer Attendance ---\")\n",
    "print(average_median_attendance)"
   ]
  },
  {
   "cell_type": "code",
   "execution_count": null,
   "id": "3df58b8a-ef37-4130-99d5-fd399850f919",
   "metadata": {},
   "outputs": [],
   "source": []
  }
 ],
 "metadata": {
  "kernelspec": {
   "display_name": "Python 3 (ipykernel)",
   "language": "python",
   "name": "python3"
  },
  "language_info": {
   "codemirror_mode": {
    "name": "ipython",
    "version": 3
   },
   "file_extension": ".py",
   "mimetype": "text/x-python",
   "name": "python",
   "nbconvert_exporter": "python",
   "pygments_lexer": "ipython3",
   "version": "3.14.0"
  }
 },
 "nbformat": 4,
 "nbformat_minor": 5
}
